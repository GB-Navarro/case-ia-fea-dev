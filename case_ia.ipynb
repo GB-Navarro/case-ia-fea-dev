{
 "cells": [
  {
   "cell_type": "markdown",
   "metadata": {},
   "source": [
    "# **1. Introdução ao Aprendizado de Máquina**"
   ]
  },
  {
   "cell_type": "markdown",
   "metadata": {
    "vscode": {
     "languageId": "plaintext"
    }
   },
   "source": [
    "## **Antes de comerçarmos:**"
   ]
  },
  {
   "cell_type": "markdown",
   "metadata": {
    "vscode": {
     "languageId": "plaintext"
    }
   },
   "source": [
    "Neste curso, você será exposto a diversos termos expressos em notação matemática. Buscaremos sempre ilustrar de forma intuitiva o significado de cada uma dessas notações. No entanto, para avançar no curso, é fundamental dedicar um tempo para compreendê-las, pois, à medida que os modelos se tornam mais complexos, nem sempre será possível oferecer uma explicação puramente intuitiva.\n",
    "\n",
    "Se você não está familiarizado com notação matemática ou sente receio ao vê-la, não se preocupe! Pense nela como uma forma compacta de expressar muitas informações em poucas palavras — como uma linguagem própria da matemática. Encare isso como o aprendizado de um novo idioma. \n",
    "\n",
    "Boa sorte!"
   ]
  },
  {
   "cell_type": "markdown",
   "metadata": {
    "vscode": {
     "languageId": "plaintext"
    }
   },
   "source": [
    "## **O que é Inteligência Artificial?**"
   ]
  },
  {
   "cell_type": "code",
   "execution_count": null,
   "metadata": {},
   "outputs": [],
   "source": []
  },
  {
   "cell_type": "markdown",
   "metadata": {
    "vscode": {
     "languageId": "plaintext"
    }
   },
   "source": [
    "## **Diferenças entre IA, Machine Learning e Deep Learning**"
   ]
  },
  {
   "cell_type": "code",
   "execution_count": null,
   "metadata": {},
   "outputs": [],
   "source": []
  },
  {
   "cell_type": "markdown",
   "metadata": {
    "vscode": {
     "languageId": "plaintext"
    }
   },
   "source": [
    "## **Tipos de aprendizado de máquina**"
   ]
  },
  {
   "cell_type": "markdown",
   "metadata": {},
   "source": [
    "### **O que é o Aprendizado Supervisionado?**"
   ]
  },
  {
   "cell_type": "code",
   "execution_count": null,
   "metadata": {},
   "outputs": [],
   "source": []
  },
  {
   "cell_type": "markdown",
   "metadata": {},
   "source": [
    "### **O que é o Aprendizado Não Supervisionado**"
   ]
  },
  {
   "cell_type": "code",
   "execution_count": null,
   "metadata": {},
   "outputs": [],
   "source": []
  },
  {
   "cell_type": "markdown",
   "metadata": {},
   "source": [
    "### **O que é o Aprendizado por Reforço?**"
   ]
  },
  {
   "cell_type": "code",
   "execution_count": null,
   "metadata": {},
   "outputs": [],
   "source": []
  },
  {
   "cell_type": "markdown",
   "metadata": {
    "vscode": {
     "languageId": "plaintext"
    }
   },
   "source": [
    "## **Definições iniciais**"
   ]
  },
  {
   "cell_type": "markdown",
   "metadata": {
    "vscode": {
     "languageId": "plaintext"
    }
   },
   "source": [
    "### **O que são dados?**"
   ]
  },
  {
   "cell_type": "markdown",
   "metadata": {
    "vscode": {
     "languageId": "plaintext"
    }
   },
   "source": [
    "Imagine que você quer entender melhor um grupo de pessoas. \n",
    "\n",
    "Para isso, você decide anotar algumas informações sobre cada uma delas, como altura *(em cm)*, peso *(em kg)* e idade *(em anos)*. Você observa uma pessoa e registra esses três valores. Depois, faz o mesmo com outra pessoa e assim por diante.\n",
    "\n",
    "Cada conjunto de informações que você registra (neste caso, altura, peso e idade) constitui um **dado**, isto é,uma representação de algo do mundo real que queremos estudar ou analisar.\n",
    "\n",
    "Suponha que coletamos os seguintes dados:\n",
    "\n",
    "- Pessoa 1: 170cm de altura, 70kg e 25 anos.\n",
    "\n",
    "- Pessoa 2: 160cm de altura, 55kg e 30 anos.\n",
    "\n",
    "- Pessoa 3: 180cm de altura, 80kg e 28 anos.\n",
    "\n",
    "Perceba que, com base nessas três informações podemos representar cada pessoa com três números, veja:\n",
    "\n",
    "- Pessoa 1 -> (170, 70, 25).\n",
    "\n",
    "- Pessoa 2 -> (160, 55, 30).\n",
    "\n",
    "- Pessoa 3 -> (180, 80, 28).\n",
    "  \n",
    "Cada linha acima é um conjunto de informações sobre uma pessoa.\n",
    "\n",
    "**Assim, o conjunto de dados que possuímos é: $$\\{(170,70,25),(160,55,30),(180,80,28)\\}$$**\n",
    " "
   ]
  },
  {
   "cell_type": "markdown",
   "metadata": {
    "vscode": {
     "languageId": "plaintext"
    }
   },
   "source": [
    "### **O que são características?**"
   ]
  },
  {
   "cell_type": "markdown",
   "metadata": {
    "vscode": {
     "languageId": "plaintext"
    }
   },
   "source": [
    "Agora, perceba que cada dado é formado por três números diferentes. Cada um deles representa um tipo específico de informação:\n",
    "\n",
    "- O primeiro número indica a **altura**.\n",
    "\n",
    "- O segundo número indica o **peso**.\n",
    "\n",
    "- O terceiro número indica a **idade**.\n",
    "\n",
    "Chamamos essas informações individuais de **características**. Elas são os aspectos que escolhemos para descrever cada pessoa.\n",
    "\n",
    "Se tivéssemos escolhido outras informações, como cor dos olhos ou cidade onde mora, teríamos características diferetentes. Assim, **as características são os elementos que compõem cada dado.**"
   ]
  },
  {
   "cell_type": "markdown",
   "metadata": {
    "vscode": {
     "languageId": "plaintext"
    }
   },
   "source": [
    "### **O que é um espaço de características?**"
   ]
  },
  {
   "cell_type": "markdown",
   "metadata": {
    "vscode": {
     "languageId": "plaintext"
    }
   },
   "source": [
    "Agora que compreendemos que, no exemplo que estamos usando, cada pessoa é caracterizada por três atributos (altura, peso e idade), podemos pensar em um jeito de visualizar essas informações.\n",
    "\n",
    "Imagine um gráfico em que cada ponto representa uma pessoa, sendo descrita por três características: altura, peso e idade:\n",
    "\n",
    "- O **eixo X** representa a altura.\n",
    "\n",
    "- O **eixo Y** representa o peso.\n",
    "\n",
    "- O **eixo Z** representa a idade.\n",
    "\n",
    "Cada pessoa pode ser representada por um ponto dentro desse espaço. **Esse espaço, onde todas as combinações possíveis de altura, peso e idade podem existir—isto é, onde essas características podem assumir quaisquer valores dentro de um intervalo permitido—é chamado de espaço de características.**  \n",
    "\n",
    "Se tivéssemos apenas altura e peso, nosso espaço teria apenas dois eixos, como um gráfico bidimensional. Se adicionássemos mais características, precisaríamos de mais dimensões para representar tudo.\n",
    "\n",
    "💡 Dica: Tente visualizar esse conceito de forma gráfica: imagine um ponto em um espaço tridimensional, onde o eixo X representa a altura, o eixo Y representa o peso e o eixo Z representa a idade. Esse ponto corresponde a uma pessoa dentro do nosso conjunto de dados. No início, pode parecer desafiador imaginar esse espaço, mas compreender essa ideia tornará o aprendizado muito mais intuitivo no futuro!"
   ]
  },
  {
   "cell_type": "markdown",
   "metadata": {
    "vscode": {
     "languageId": "plaintext"
    }
   },
   "source": [
    "### **O que são vetores de características?**"
   ]
  },
  {
   "cell_type": "markdown",
   "metadata": {
    "vscode": {
     "languageId": "plaintext"
    }
   },
   "source": [
    "Agora que entendemos que cada pessoa é representada por um ponto dentro do espaço de características, podemos dar um nome especial para essa representação: **vetor de características**\n",
    "\n",
    "Um vetor de características é simplesmente um conjunto de números que descreve uma pessoa dentro desse espaço. Podemos imaginá-lo como uma \"seta\" que parte da origem do espaço de características e aponta diretamente para a posição (coordenadas) correspondente a essa pessoa.\n",
    "\n",
    "Por exemplo, para a Pessoa 1, o vetor de características é $(170, 70, 25)$, o que significa:\n",
    "\n",
    "- Altura: **170cm**.\n",
    "\n",
    "- Peso: **70kg**.\n",
    "\n",
    "- Idade: **25 anos**.\n",
    "\n",
    "Se pensarmos em um gráfico tridimensional, onde cada eixo representa uma característica (altura, peso e idade), esse vetor nos dá a posição exata da pessoa nesse espaço. A \"seta\" que parte da origem até esse ponto é uma forma intuitiva de visualizar como cada observação do nosso conjunto de dados pode ser representada matematicamente.\n",
    "\n",
    "Em resumo, vetor de características é um termo matemático que usamos para representar cada observação dentro do nosso conjunto de dados.\n",
    "\n",
    "💡 Dica: Realmente tente imaginar que cada pessoa do nosso conjunto de dados é representada por uma seta partindo da origem e apontando para um ponto no espaço tridimensional. Essa seta nada mais é do que o vetor de características, que indica a posição exata da pessoa nesse espaço. No começo, pode ser desafiador visualizar essa ideia, mas pensar nos vetores como \"setas direcionadas\" ajudará a compreender melhor como os dados são organizados e analisados matematicamente!"
   ]
  },
  {
   "cell_type": "markdown",
   "metadata": {},
   "source": [
    "### **O que é um Algoritmo?**\n",
    "\n",
    "Um **algoritmo** é um conjunto de **instruções passo a passo** para resolver um problema ou realizar uma tarefa. Ele funciona como um guia que, quando seguido corretamente, leva a um resultado específico.\n",
    "\n",
    "#### 🍰 **Exemplo Simples: Receita de Bolo**\n",
    "\n",
    "Imagine que você quer fazer um bolo. A **receita** é o algoritmo, pois ela define o que você precisa fazer em cada etapa para alcançar o objetivo final: o bolo pronto.\n",
    "\n",
    "#### **Passos do Algoritmo (Receita de Bolo):**\n",
    "1. **Pré-aqueça** o forno a 180°C.  \n",
    "2. **Separe** os ingredientes: ovos, farinha, açúcar e fermento.  \n",
    "3. **Misture** os ovos e o açúcar até ficar homogêneo.  \n",
    "4. **Adicione** a farinha e o fermento à mistura.  \n",
    "5. **Despeje** a massa em uma forma untada.  \n",
    "6. **Asse** no forno por 40 minutos.  \n",
    "7. **Retire** o bolo do forno e **espere esfriar**.\n",
    "\n",
    "💡 **Resultado:** Um delicioso bolo pronto para ser servido!\n",
    "\n",
    "#### **Conclusão:**\n",
    "Assim como a receita garante que o bolo sairá como esperado, um **algoritmo** garante que um problema será resolvido de forma lógica e organizada, seja em um programa de computador ou em tarefas do dia a dia.\n"
   ]
  },
  {
   "cell_type": "markdown",
   "metadata": {
    "vscode": {
     "languageId": "plaintext"
    }
   },
   "source": [
    "## **Formalizando as definições iniciais**"
   ]
  },
  {
   "cell_type": "markdown",
   "metadata": {
    "vscode": {
     "languageId": "plaintext"
    }
   },
   "source": [
    "Agora que construímos uma boa intuição, podemos formalizar esses conceitos matematicamente — mantendo o formalismo apenas no nível necessário por enquanto."
   ]
  },
  {
   "cell_type": "markdown",
   "metadata": {
    "vscode": {
     "languageId": "plaintext"
    }
   },
   "source": [
    "### **Dados**"
   ]
  },
  {
   "cell_type": "markdown",
   "metadata": {
    "vscode": {
     "languageId": "plaintext"
    }
   },
   "source": [
    "- São um conjunto de observações $X = \\{x_{1}, x_{2}, ..., x_{n}\\}$, onde cada $x_{i}$ é uma observação.\n",
    "\n",
    "- No nosso exemplo, os dados são o conjunto de pessoas que analisamos."
   ]
  },
  {
   "cell_type": "markdown",
   "metadata": {
    "vscode": {
     "languageId": "plaintext"
    }
   },
   "source": [
    "### **Características**"
   ]
  },
  {
   "cell_type": "markdown",
   "metadata": {
    "vscode": {
     "languageId": "plaintext"
    }
   },
   "source": [
    "- São os atributos que usamos para descrever cada observação. \n",
    "  \n",
    "- Por exemplo, para a observação: $x_{i} = (x_{i1}, x_{i2},...,x_{id})$, cada valor $x_{ij}$ representa um atributo específico da observação $x_{i}$ *(ex: altura, peso, idade)*, onde $j$ varia de $1$ até $d$."
   ]
  },
  {
   "cell_type": "markdown",
   "metadata": {
    "vscode": {
     "languageId": "plaintext"
    }
   },
   "source": [
    "### **Espaço de características**"
   ]
  },
  {
   "cell_type": "markdown",
   "metadata": {
    "vscode": {
     "languageId": "plaintext"
    }
   },
   "source": [
    "- É o conjunto de todas as possíveis combinações dos atributos que utilizamos para descrever uma observação.\n",
    "\n",
    "- Se cada observação é descrita por $d$ características, esse espaço contém todas as combinações possíveis desses $d$ atributos e é matematicamente representado por $R^{d}$.\n",
    "\n",
    "- Intuitivamente, podemos imaginar esse espaço como um ambiente onde cada observação ocupa uma posição única com base nos valores de suas características."
   ]
  },
  {
   "cell_type": "markdown",
   "metadata": {
    "vscode": {
     "languageId": "plaintext"
    }
   },
   "source": [
    "### **Vetores de características**"
   ]
  },
  {
   "cell_type": "markdown",
   "metadata": {
    "vscode": {
     "languageId": "plaintext"
    }
   },
   "source": [
    "- Representam cada observação dentro do espaço de características.\n",
    "\n",
    "- No nosso exemplo, a **Pessoa 1** é representada pelo vetor: $x_{1} = (170,70,25) \\in R^{3}$.\n",
    "\n",
    "- De forma geral, para um espaço de características com $d$ dimensões, cada observação é um vetor da forma: $x_{i} = (x_{i1},x_{i2},...,x_{id}) \\in R^{d}$, onde $i$ indica o número da observação e cada índice $j$ (com $j \\in \\{1,2,...,d\\}$) representa uma característica dessa observação."
   ]
  },
  {
   "cell_type": "markdown",
   "metadata": {},
   "source": [
    "### **Algoritmo**"
   ]
  },
  {
   "cell_type": "markdown",
   "metadata": {},
   "source": [
    "Em **Machine Learning**, um **algoritmo** é um conjunto de regras e procedimentos matemáticos e computacionais que orientam o processo de **aprendizado a partir de dados**. Ele define como o modelo deve analisar os dados de entrada, identificar padrões e fazer previsões ou classificações. Em outras palavras, o algoritmo é a lógica que ajusta os parâmetros do modelo para minimizar erros e melhorar a precisão ao lidar com novos dados.\n"
   ]
  },
  {
   "cell_type": "code",
   "execution_count": null,
   "metadata": {},
   "outputs": [],
   "source": []
  },
  {
   "cell_type": "markdown",
   "metadata": {
    "vscode": {
     "languageId": "plaintext"
    }
   },
   "source": [
    "### 💡 Dica:\n",
    "\n",
    "Não se preocupe se essas definições parecerem um pouco abstratas no começo! Você pode continuar avançando no curso sem dominar completamente essas notações matemáticas. No entanto, quanto mais confortável você estiver com essas notações, mais rápido será seu progresso e mais profundo será seu entendimento dos próximos tópicos.\n",
    "\n",
    "Se algo não ficou claro, pergunte ao responsável pelo case e revise essas definições sempre que for estudar. Criar familiaridade com essas notaçãos ao longo do tempo tornará o aprendizado muito mais natural e intuitivo!"
   ]
  },
  {
   "cell_type": "markdown",
   "metadata": {
    "vscode": {
     "languageId": "plaintext"
    }
   },
   "source": [
    "# **2. Fundamentos de Machine Learning**"
   ]
  },
  {
   "cell_type": "markdown",
   "metadata": {
    "vscode": {
     "languageId": "plaintext"
    }
   },
   "source": [
    "## **O que é um modelo preditivo?**"
   ]
  },
  {
   "cell_type": "markdown",
   "metadata": {},
   "source": [
    "Um modelo preditivo é um tipo de modelo de machine learning que tem como objetivo principal fazer previsões sobre novos dados com base em padrões aprendidos a partir de dados históricos.\n",
    "\n",
    "---\n",
    "\n",
    "Esses modelos utilizam padrões extraídos dos dados para fazer previsões sobre novas observações. Em termos formais, esses modelos buscam aprender uma função $$f: x_{i} \\in X \\rightarrow Y$$ que relacione os vetores de características $x_{i} \\in X$ com a variável alvo $Y$, de forma que seja possível estimar um $Y$ para um novo $x_{i} \\in X$ não observado anteriormente.\n",
    "\n",
    "---\n",
    "\n",
    "Os modelos preditivos podem ser utilizados para diferentes tipos de tarefas, como prever se um cliente pagará um empréstimo (classificação), estimar o valor de um imóvel (regressão) ou antecipar o comportamento de uma série temporal (como preços de ativos financeiros).\n",
    "\n",
    "No entanto, as abordagens para construir esse tipo de modelo variam bastante, dependendo da forma como os dados são tratados e da estratégia utilizada para ajustar os parâmetros do modelo. Podemos dividir os modelos preditivos em algumas categorias principais, são elas:\n",
    "\n"
   ]
  },
  {
   "cell_type": "markdown",
   "metadata": {},
   "source": [
    "### **1. Modelos Estatísticos e Probabilísticos**"
   ]
  },
  {
   "cell_type": "markdown",
   "metadata": {},
   "source": [
    "Esses modelos assumem que os dados seguem uma distribuição probabilística específica e ajustam seus parâmetros para maximizar a verossimilhança dos dados observados.\n",
    "\n",
    "✅ **Objetivo:** Estimar a distribuição dos dados e inferir a relação entre as variáveis.\n",
    "\n",
    "**Exemplos:**\n",
    "\n",
    "- Regressão Linear: Assume que a relação entre as variáveis é linear e que os resíduos seguem uma distribuição normal.\n",
    "\n",
    "- Regressão Logística: Usa a função sigmoide para modelar probabilidades em problemas de classificação binária.\n",
    "\n",
    "- Naïve Bayes: Baseia-se na regra de Bayes e assume independência condicional entre os atributos.\n",
    "\n",
    "📌 **Diferencial:** Esses modelos são baseados em conceitos estatísticos bem definidos e geralmente interpretáveis."
   ]
  },
  {
   "cell_type": "markdown",
   "metadata": {},
   "source": [
    "### **2. Modelos Baseados em Otimização**"
   ]
  },
  {
   "cell_type": "markdown",
   "metadata": {},
   "source": [
    "Esses modelos aprendem a função $f$ otimizando uma métrica específica, sem necessariamente assumir uma distribuição subjacente dos dados.\n",
    "\n",
    "✅ **Objetivo:** Encontrar um modelo que minimize uma função de erro ou maximize uma margem de separação.\n",
    "\n",
    "**Exemplos:**\n",
    "\n",
    "- SVM (Máquinas de Vetores de Suporte): Maximiza a margem entre as classes em problemas de classificação.\n",
    "\n",
    "- Redes Neurais (MLPs clássicas): Ajustam pesos para minimizar um erro através do gradiente descendente.\n",
    "\n",
    "📌 **Diferencial:** Baseiam-se em técnicas numéricas de otimização e não exigem uma suposição explícita sobre a distribuição dos dados."
   ]
  },
  {
   "cell_type": "markdown",
   "metadata": {},
   "source": [
    "### **3. Modelos Baseados em Particionamento de Dados**"
   ]
  },
  {
   "cell_type": "markdown",
   "metadata": {},
   "source": [
    "Esses modelos criam regras para dividir os dados em subconjuntos homogêneos, organizando-os hierarquicamente.\n",
    "\n",
    "✅ **Objetivo:** Criar regras de decisão que segmentem os dados em diferentes categorias.\n",
    "\n",
    "**Exemplos:**\n",
    "\n",
    "- Árvores de Decisão: Criam um conjunto de regras sequenciais que levam a decisões.\n",
    "\n",
    "- Random Forests: Conjunto de árvores de decisão para aumentar a robustez.\n",
    "\n",
    "📌 **Diferencial:** São fáceis de interpretar e não exigem transformações matemáticas complexas."
   ]
  },
  {
   "cell_type": "markdown",
   "metadata": {},
   "source": [
    "### **4. Modelos Baseados em Agrupamento (Clustering)**"
   ]
  },
  {
   "cell_type": "markdown",
   "metadata": {},
   "source": [
    "Modelos que tentam encontrar padrões e estruturas nos dados sem rótulos supervisionados.\n",
    "\n",
    "✅ **Objetivo:** Agrupar os dados de forma a maximizar a semelhança dentro dos clusters e minimizar entre os clusters.\n",
    "\n",
    "**Exemplos:**\n",
    "\n",
    "- K-Means: Baseado na minimização da soma das distâncias dos pontos ao centro do cluster.\n",
    "\n",
    "- DBSCAN: Detecta clusters com base na densidade dos dados.\n",
    "\n",
    "📌 **Diferencial:** Úteis para análise exploratória e segmentação de dados sem supervisão.\n",
    "\n"
   ]
  },
  {
   "cell_type": "markdown",
   "metadata": {},
   "source": [
    "### **5. Modelos Baseados em Instâncias**"
   ]
  },
  {
   "cell_type": "markdown",
   "metadata": {},
   "source": [
    "Esses modelos fazem previsões baseadas nos exemplos mais próximos no conjunto de treinamento, sem construir explicitamente uma função generalizada durante o aprendizado.\n",
    "\n",
    "✅ **Objetivo:** Utilizar diretamente os dados observados para fazer previsões sem uma fase explícita de aprendizado de parâmetros.\n",
    "\n",
    "**Exemplo:**\n",
    "    \n",
    "- KNN (K-Nearest Neighbors): Classifica ou estima valores com base nos $k$ vizinhos mais próximos.\n",
    "\n",
    "📌 Diferencial: São conhecidos como modelos preguiçosos (lazy learners) porque não possuem uma fase explícita de treinamento; todo o esforço computacional ocorre no momento da previsão."
   ]
  },
  {
   "cell_type": "markdown",
   "metadata": {},
   "source": [
    "### **A importância da amostra de treinamento para um modelo preditivo**"
   ]
  },
  {
   "cell_type": "markdown",
   "metadata": {},
   "source": [
    "No fim das contas, modelos preditivos tentam encontrar uma função matemática que capture a relação entre as variáveis de entrada (características) e a variável de saída (o que queremos prever). Essa função pode ser vista como uma aproximação da verdadeira relação existente nos dados. No entanto, os dados usados para treinar o modelo representam apenas uma amostra de um conjunto muito maior e desconhecido. Se essa amostra for pequena, enviesada ou não representativa, o modelo pode aprender padrões artificiais que não se repetem em novos dados — um problema conhecido como overfitting.\n",
    "\n",
    "Diferentes modelos fazem suposições distintas sobre essa relação. Modelos estatísticos assumem que os dados seguem certas distribuições probabilísticas, enquanto modelos baseados em otimização simplesmente ajustam funções para melhor se encaixar nos exemplos observados, sem pressupor uma estrutura fixa. Em ambos os casos, a qualidade da amostra influencia diretamente a capacidade do modelo de fazer boas previsões.\n",
    "\n",
    "Por isso, ao treinar um modelo, é essencial garantir que os dados de entrada representem bem o fenômeno que estamos tentando modelar. Métodos como validação cruzada, regularização e aumento da diversidade dos dados ajudam a reduzir vieses e melhorar a capacidade do modelo de generalizar para novas situações."
   ]
  },
  {
   "cell_type": "markdown",
   "metadata": {
    "vscode": {
     "languageId": "plaintext"
    }
   },
   "source": [
    "## **Tradeoff entre Bias e Variância** "
   ]
  },
  {
   "cell_type": "markdown",
   "metadata": {},
   "source": [
    "No contexto de machine learning, bias e variance são conceitos centrais para entender o erro total de um modelo e avaliar sua capacidade de generalização. Esses componentes descrevem como o modelo se comporta ao lidar com novos dados, ou seja, dados que não foram usados durante o treinamento, e ajudam a identificar as causas de diferentes tipos de erro."
   ]
  },
  {
   "cell_type": "markdown",
   "metadata": {
    "vscode": {
     "languageId": "plaintext"
    }
   },
   "source": [
    "### **Explicando o Bias**"
   ]
  },
  {
   "cell_type": "markdown",
   "metadata": {},
   "source": [
    "O bias está associado à incapacidade do modelo de captar as complexidades subjacentes nos dados. Modelos com alto bias fazem suposições simplificadas, resultando em um desempenho ruim tanto nos dados de treino quanto nos de teste. Esse comportamento caracteriza o subajuste (underfiting), quando o modelo não consegue representar adequadamente as relações reais nos dados.\n",
    "\n",
    "Características do Bias:\n",
    "- Modelos com bias altos geralmente são simples. Um exemplo é a regressão linear aplicada quando os dados possuem relações **não-lineares**\n",
    "- Ocorre quando o modelo subestima a complexidade das relações entre os dados\n",
    "- Está associada com baixa acurácia tanto nos dados de treino quanto nos dados de teste.\n",
    "\n",
    "A imagem abaixo deixa mais claro uma situação de um modelo com alto bias.\n",
    "\n",
    "<p align='center'>\n",
    "<img src=\"https://sigmoidal.ai/wp-content/uploads/2023/11/621609a7e64cfb63781a0426_24-300x200.png\" width=\"400\"></img>\n",
    "</p>\n",
    "\n",
    "Perceba que claramente há uma relação não-linear entre os dados. Porém, o modelo tenta ajustar uma reta ao conjunto de dados, não capturando toda a complexidade envolvida\n"
   ]
  },
  {
   "cell_type": "markdown",
   "metadata": {},
   "source": [
    "### **Definição formal de Bias**"
   ]
  },
  {
   "cell_type": "markdown",
   "metadata": {},
   "source": [
    "O bias mede o erro sistemático do modelo. Formalmente, ele se refere à diferença entre o valor médio das predições do modelo e o valor verdadeiro que estamos tentando prever. Matematicamente, para uma variável-alvo y, com base em entradas x, o bias é definido como:\n",
    "\n",
    "$$\n",
    "\tBias(\\hat{f}(x)) = \\mathbb{E}[\\hat{f}(x)] - f(x)\n",
    "$$\n",
    "\n",
    "Onde:\n",
    "\n",
    "- $E[\\hat{f}(x)]$ é o valor esperado das predições do modelo (considerando diferentes amostras de treino).\n",
    "- $f(x)$ é o verdadeiro mapeamento subjacente (função real que gera os dados)."
   ]
  },
  {
   "cell_type": "code",
   "execution_count": null,
   "metadata": {},
   "outputs": [],
   "source": []
  },
  {
   "cell_type": "markdown",
   "metadata": {
    "vscode": {
     "languageId": "plaintext"
    }
   },
   "source": [
    "### **Explicando a Variância**"
   ]
  },
  {
   "cell_type": "markdown",
   "metadata": {},
   "source": [
    "Por outro lado, a variancia reflete a sensibilidade do modelo às flutuações nos dados de treino. Modelos com alta variancia não apenas aprendem os padrões gerais, mas também o ruído específico dos dados de treino. Isso resulta em um excelente desempenho nos dados de treino, mas um desempenho ruim em novos dados, caracterizando o superajuste (overfitting). \n",
    "\n",
    "Características da Variancia:\n",
    "\n",
    "- Modelos com variancia alta são geralmente complexos, como árvores de decisão profundas ou redes neurais complexas treinadas com poucos dados.\n",
    "- Ocorre quando o modelo se ajusta excessivamente aos dados de treinamento.\n",
    "- Resulta em alta acurácia no **treinamento**, mas baixa acurácia em dados de **teste**, pois o modelo não generaliza bem.\n",
    "\n",
    "\n",
    "A imagem abaixo mostra um exemplo de uma caso com alta variancia (overfitting):\n",
    "<p align='center'>\n",
    "<img src=\"https://cdn.prod.website-files.com/5fb24a974499e90dae242d98/621608ae7abbdc500080ef96_23.png\" width=\"400\"></img>\n",
    "</p>\n",
    "\n",
    "Neste caso, perceba que o modelo foca não nas relacões fundamentais entre os dados, mas sim no rúido específicio dos dados de treino. Se formos aplicar esse modelo a uma outra amostra de dados que não seja a de treino, o desempenho será muito baixo, pois é como se o modelo tivesse apenas memorizado o conjunto de treinamento.\n",
    "\n",
    "💡 Dica: Lembra daquela prova em que você teve pouco tempo de estudar e dois dias antes da prova bate aquele desespero? O que você faz? Não dá tempo de entender todo o conteúdo em tão pouco tempo.\n",
    "\n",
    "Uma alternativa nesse cenário é decorar aquela lista que o professor passou para estudo. Vai que cai uma questão igualzinha né? \n",
    "\n",
    "Esse é um caso em que você está em um overfitting!! Você pode ser capaz de responder cada questão da lista de bate pronto, mas você não entendeu o conteúdo de fato, se houver alguma pergunta diferente, você não saberá responder."
   ]
  },
  {
   "cell_type": "markdown",
   "metadata": {},
   "source": [
    "### **Definição formal de Variância**"
   ]
  },
  {
   "cell_type": "markdown",
   "metadata": {},
   "source": [
    " A variancia mede a sensibilidade do modelo às flutuações nos dados de treino. Ela descreve o quanto as predições do modelo variam em relação à média das predições quando o modelo é treinado com diferentes amostras de treino. Formalmente, a variancia é definida como:\n",
    "\n",
    "$$\n",
    "\tVar(\\hat{f}(x)) = \\mathbb{E}[(\\hat{f}(x) - \\mathbb{E}[\\hat{f}(x)])^{2}] \n",
    "$$\n",
    "\n",
    "Onde:\n",
    "\n",
    "- $\\hat{f}(x)$ é a predição do modelo.\n",
    "- $\\mathbb{E}[\\hat{f}(x)]$ é o valor esperado das predições do modelo."
   ]
  },
  {
   "cell_type": "code",
   "execution_count": null,
   "metadata": {},
   "outputs": [],
   "source": []
  },
  {
   "cell_type": "markdown",
   "metadata": {
    "vscode": {
     "languageId": "plaintext"
    }
   },
   "source": [
    "### **Explicando o Tradeoff entre Bias e Variância**"
   ]
  },
  {
   "cell_type": "markdown",
   "metadata": {},
   "source": [
    "Fundamentalmente, a questão de encontrar \"o melhor modelo\" se refere a encontrar um ponto ótimo no trade-off entre bias e variancia\n",
    "\n",
    "A capacidade de generalização de um modelo depende de encontrar um equilíbrio entre bias e variancia. Um modelo com alto bias é muito simples e subajusta os dados, enquanto um modelo com alta variancia é excessivamente complexo e superajusta os dados de treino.\n",
    "\n",
    "O trade-off entre bias e variance refere-se ao equilíbrio necessário entre simplicidade e complexidade do modelo para alcançar a melhor performance possível.\n",
    "- 🔺Aumentar a complexidade de um modelo reduz o bias, mas aumenta a variância.\n",
    "- 🔻Simplificar o modelo reduz a variância, mas aumenta o bias.\n",
    "\n",
    "O objetivo é encontrar um ponto de equilíbrio onde o modelo não seja nem muito simples (evitando underfitting), nem excessivamente complexo (evitando overfitting)."
   ]
  },
  {
   "cell_type": "code",
   "execution_count": null,
   "metadata": {},
   "outputs": [],
   "source": []
  },
  {
   "cell_type": "markdown",
   "metadata": {
    "vscode": {
     "languageId": "plaintext"
    }
   },
   "source": [
    "## **Validação Cruzada e Overfitting**"
   ]
  },
  {
   "cell_type": "code",
   "execution_count": null,
   "metadata": {},
   "outputs": [],
   "source": []
  },
  {
   "cell_type": "markdown",
   "metadata": {
    "vscode": {
     "languageId": "plaintext"
    }
   },
   "source": [
    "## **Problemas de classificação**"
   ]
  },
  {
   "cell_type": "markdown",
   "metadata": {
    "vscode": {
     "languageId": "plaintext"
    }
   },
   "source": [
    "### **O que é um problema de classificação?**"
   ]
  },
  {
   "cell_type": "markdown",
   "metadata": {},
   "source": [
    "A classificação é o processo de reconhecimento, compreensão e agrupamento de objetos e ideias em categorias predefinidas. Utilizando conjuntos de dados de treinamento previamente categorizados, algoritmos de classificação em machine learning conseguem categorizar novos dados de forma precisa.\n",
    "\n",
    "Esses algoritmos analisam dados de entrada para prever a probabilidade de que novos dados pertençam a uma das categorias estabelecidas.\n",
    "\n",
    "Em termos simples, a classificação é uma forma de reconhecimento de padrões, em que os algoritmos identificam padrões nos dados de treinamento e aplicam esse conhecimento a novos conjuntos de dados."
   ]
  },
  {
   "cell_type": "markdown",
   "metadata": {},
   "source": [
    "**Motivação:** Suponha que você tenha um conjunto de dados com características de vários clientes de um banco que desejam obter empréstimos. Seus dados possuem um conjunto de características desses clientes como idade, renda, nível de educação, entre outros. \n",
    "\n",
    "Baseando-se no conjunto de características fornecidas, você deseja **classificar** os clientes entre aqueles que terão o empréstimo aprovado e aqueles que não terão o empréstimo aprovado"
   ]
  },
  {
   "cell_type": "markdown",
   "metadata": {},
   "source": [
    "Formalmente, em problemas de classificação o objetivo é prever uma *class label*, uma lista de possibilidades pré-determinadas e que são variáveis discretas.\n",
    "\n",
    "Na motivação acima, a nossa *class label* era se a pessoa teria o crédito aprovado ou não. Perceba que a resposta só assume dois valores possíveis, sim ou não (1 ou 0 em linguagem matemática). Além disso, podemos chamar essa variável de discreta porque ela só assume dois valores possíveis, ela \"dá um salto\" de 0 para 1.\n",
    "\n",
    "Os problemas de classificação podem ser separados em:\n",
    "\n",
    "- Classificação binária (binary classification)\n",
    "- Classificação multiclasse (Multi-class classification)\n",
    "- Classificação multirótulo (Multi-label Classification)\n",
    "- Classificação desbalanceada (Imbalanced Classification)"
   ]
  },
  {
   "cell_type": "markdown",
   "metadata": {},
   "source": [
    "### **Classificação binária (binary classification)**"
   ]
  },
  {
   "cell_type": "markdown",
   "metadata": {},
   "source": [
    "O objetivo da classificação binária é classificar cada observação (vetor de características) tendo como possibilidade de resposta (label) exatamente duas classes. Você pode pensar na classificação binária como tentar responder uma pergunta do tipo sim ou não. Um email é um span? sim ou não. Um cliente terá seu pedido de empréstimo aprovado? sim ou não.\n",
    "\n",
    "Neste cenário, podemos dizer que a class label é mutuamente exclusiva. Ou seja, ou uma observação é classificada como sim ou ela é classifica como não. É impossível uma observação ser classficadas como sim e não ao mesmo tempo.\n",
    "\n",
    "📝 Observação: No contexto de classificação binária, é comum usar True ou False, positivo ou negativo, 1 ou 0 para se referir a uma resposta do tipo \"sim ou não\". Não se preocupe, são apenas maneiras diferentes de se referir a mesma coisa."
   ]
  },
  {
   "cell_type": "markdown",
   "metadata": {},
   "source": [
    "### **Classificação multiclasse (Multi-class classification)**"
   ]
  },
  {
   "cell_type": "markdown",
   "metadata": {},
   "source": [
    "Semelhante a classificação binária, na classificação multiclasse também queremos classificar cada observação no nosso conjunto de dados. Porém, nossa lista de possibilidades pré-determinadas agora é maior que duas. Porém, de maneira semelhante, as class labels ainda são mutuamente exclusivas e discretas.\n",
    "\n",
    "**Exemplo:** Se tivermos um conjunto de dados com características de alunos da FEA, podemos querer classificá-los de acordo com o curso em que eles estão matriculados. As possíveis respostas (class labels) são (i) Administração, (ii) Economia, (iii) Contabilidade ou (iv) Atuária. Perceba que um aluno não pode estar matrículado em dois ou mais destes cursos ao mesmo tempo."
   ]
  },
  {
   "cell_type": "markdown",
   "metadata": {},
   "source": [
    "### **Classificação multirótulo (Multi-label Classification)**"
   ]
  },
  {
   "cell_type": "markdown",
   "metadata": {},
   "source": [
    "Semelhante a classificação multiclasse, queremos classificar cada observação na nossa base de dados em uma lista de possibilidades pré-determinadas em duas ou mais class labels. Porém, no caso da classificação multirótulo, as labels agora não são mais mutuamente exclusivas.\n",
    "\n",
    "Pense em um problema em que queremos classificar um vetor de característcas em X, Y, e/ou Z. Em um problema de multirótulo, é totalmente possível que uma observação seja classficada como X e Y ou Y e Z **ao mesmo tempo**. Estranho né? Mas um exemplo deixa tudo mais claro.\n",
    "\n",
    "**Exemplo:** Pense agora que temos um conjunto de dados de vários filmes e queremos classificá-los de acordo com seus gêneros. Perceba agora que os gêneros de um filme não são mutuamente exclusivas, é totalmente possível que um filme seja de comédia e ao mesmo tempo seja um filme de ação ou que um filme seja de terror e de suspense psicológico ao mesmo tempo. Ou seja, é totalmente possível que cada observação tenha uma ou mais label"
   ]
  },
  {
   "cell_type": "markdown",
   "metadata": {},
   "source": [
    "### **Classificação desbalanceada (Imbalanced Classification)**"
   ]
  },
  {
   "cell_type": "markdown",
   "metadata": {},
   "source": [
    "A classificação desbalanceada não é exatamente uma categoria de classificação diferente, mas sim um ponto de atenção que devemos ter quando trabalhamos com qualquer problema de classificação abordado nos tópicos anteriores.\n",
    "\n",
    "Ela acontece quando as class labels do nosso conjunto de dados não está está balanceada. Neste caso, temos que as observações serão classificadas majoritamente de um tipo e poucas serão classificadas de outro.\n",
    "\n",
    "**Exemplo:** Suponha que uma doença rara afeta apenas 1% da população.\n",
    "\n",
    "Se nossa base de dados de dados for representativa da população, apenas cerca de 1% deveria ser classficado como positivo para a doença e 99% deveria ser negativo.\n",
    "\n",
    "Apesar de não ser uma categoria diferenciada de classificação, é importante que tenhamos noção se estivermos trabalhando com um problema desse tipo porque as técnicas e modelos usuais que veremos podem não funcionar muito bem neste contexto. \n",
    "\n",
    "Outro ponto de atenção necessário é quando tivermos avaliando um modelo nesse contexto."
   ]
  },
  {
   "cell_type": "code",
   "execution_count": null,
   "metadata": {},
   "outputs": [],
   "source": []
  },
  {
   "cell_type": "markdown",
   "metadata": {
    "vscode": {
     "languageId": "plaintext"
    }
   },
   "source": [
    "### **O que é um classificador?**"
   ]
  },
  {
   "cell_type": "markdown",
   "metadata": {},
   "source": [
    "Um classificador é um **algoritmo** de Machine Learning que é utilizado para mapear cada vetor de características no conjunto de dados a uma categoria específica. Conforme nossas definições iniciais, pense no classificador como um **conjunto de regras** que definem a metodologia utilizada para que o modelo que você está treinando produza o resultado esperado.\n",
    "\n",
    "Estes algoritmos, de maneira geral, implementam métodos matemáticos e estatísticos sofisticados para classificar as observações do conjunto de dados.\n",
    "\n",
    "Alguns exemplos de classificadores que veremos ao longo do case são:\n",
    "- KNN (K-Nearest Neighbor)\n",
    "- Naive Bayes\n",
    "- Regressão Logística\n",
    "- Máquinas de Vetores de Suporte (SVC)\n",
    "- Árvores de Decisão\n",
    "\n",
    "Passaremos em mais detalhes por cada um deles, então não se preocupe em querer entender todos neste momento. Apenas tenha em mente que cada um desses classificadores segue um algoritmo específico para produzir o resultado final."
   ]
  },
  {
   "cell_type": "code",
   "execution_count": null,
   "metadata": {},
   "outputs": [],
   "source": []
  },
  {
   "cell_type": "markdown",
   "metadata": {
    "vscode": {
     "languageId": "plaintext"
    }
   },
   "source": [
    "### **Métricas de Avaliação para Classificação**"
   ]
  },
  {
   "cell_type": "markdown",
   "metadata": {
    "vscode": {
     "languageId": "plaintext"
    }
   },
   "source": [
    "#### **Acurácia**"
   ]
  },
  {
   "cell_type": "markdown",
   "metadata": {},
   "source": [
    "A Acurácia é o método mais simples e direto de se avaliar o resultado gerado por um modelo de Classificação\n",
    "\n",
    "Em resumo, ela mostra a **porcentagem de classificações corretas que o modelo fez**. Pensando de outra forma, a acurácia é a **soma das previsões corretas** dividida pelo **total de previsões que o modelo fez**.\n",
    "\n",
    "A fórmula que define a Acurácia é a seguinte:\n",
    "\n",
    "$$\n",
    "ACC = \\frac{TP + TN}{TP + TN + FP + FN} \n",
    "$$\n",
    "\n",
    "Onde:\n",
    "\n",
    "$TP$ = True Positive, $TN$ = True Negative, $FP$ = False Positive, $FN$ = False Negative"
   ]
  },
  {
   "cell_type": "code",
   "execution_count": null,
   "metadata": {},
   "outputs": [],
   "source": []
  },
  {
   "cell_type": "markdown",
   "metadata": {
    "vscode": {
     "languageId": "plaintext"
    }
   },
   "source": [
    "#### **Precisão**"
   ]
  },
  {
   "cell_type": "markdown",
   "metadata": {},
   "source": [
    "Refere-se à proporção de previsões positivas corretas em relação ao total de previsões positivas feitas pelo modelo. A fórmula da métricas de Precisão é a seguinte:\n",
    "\n",
    "$$\n",
    "Precison = \\frac{TP} {TP + FP}\n",
    "$$\n",
    "\n",
    "A Precisão é bastante usada quando o objetivo é limitar o número de falsos positivos. Um exemplo é um modelo que tenta prever se um novo remédio sera efetivo no tratamento de uma doença. Nesse caso, é fundamental que o modelo minimize os falsos positivos para uma correta mensuração da eficácia do remédio. Esse é um caso em que é fundamental o modelo possuir uma alta precisão."
   ]
  },
  {
   "cell_type": "code",
   "execution_count": null,
   "metadata": {},
   "outputs": [],
   "source": []
  },
  {
   "cell_type": "markdown",
   "metadata": {
    "vscode": {
     "languageId": "plaintext"
    }
   },
   "source": [
    "#### **Recall (ou Sensitivity)**"
   ]
  },
  {
   "cell_type": "markdown",
   "metadata": {},
   "source": [
    "Recall, também chamado de Sensitivity em alguns materiais, mede quanto das observações que são positivas no conjunto de dados foram capturadas corretamente pelo modelo. \n",
    "\n",
    "$$\n",
    "Sensitivity=\\frac{TP}{TP + FN}\n",
    "$$\n",
    "\n",
    "Essa métrica é crucial quando é essencial capturar todos os casos positivos, como no diagnóstico de doenças graves ou detecção de fraudes. Ou seja, queremos minimizar a ocorrência de falsos negativos. No exemplo de diagnóstico de uma doença, é fundamental que não deixemos nenhum paciente doente não ser identificado corretamente pelo modelo."
   ]
  },
  {
   "cell_type": "markdown",
   "metadata": {},
   "source": [
    "📝**Observação:**\n",
    "\n",
    "Existe um trade-off entre otimizar o **recall** e otimizar a **precisão**. É possível obter um recall perfeito de forma trivial se você prever que todas as amostras pertencem à classe positiva — dessa forma, não haverá falsos negativos, mas também não haverá verdadeiros negativos. No entanto, ao prever todas as amostras como positivas, haverá muitos falsos positivos, o que fará com que a precisão seja muito baixa.\n",
    "\n",
    "Por outro lado, se você encontrar um modelo que prevê como positiva apenas a única amostra da qual tem total certeza (supondo que essa amostra seja realmente positiva) e classifica todas as outras como negativas, a precisão será perfeita. Contudo, o recall será muito ruim, pois o modelo deixará de identificar outras amostras positivas."
   ]
  },
  {
   "cell_type": "code",
   "execution_count": null,
   "metadata": {},
   "outputs": [],
   "source": []
  },
  {
   "cell_type": "markdown",
   "metadata": {
    "vscode": {
     "languageId": "plaintext"
    }
   },
   "source": [
    "#### **F1-Score**"
   ]
  },
  {
   "cell_type": "markdown",
   "metadata": {},
   "source": [
    "Vimos que tanto a Precisão quanto o Recall são importantes medidas para avaliar um modelo de classificação. Como vimos, devemos fazer um trade-off entre as duas métricas e analisar ambas para garantirmos que estamos com um bom modelo.\n",
    "\n",
    "Uma maneira de sumarizar ambas as métricas em uma só é o chamado **F1-Score**. Ele é a média harmonica entre a Precisão e o Recall.\n",
    "\n",
    "$$\n",
    "F1-Score = {2}\\times{\\frac{\\text{Precision}\\times\\text{Recall}}{\\text{Precision}+\\text{Recall}}}\n",
    "$$\n",
    "\n",
    "O F1-Score pode ser uma medida melhor que a acurácia em conjunto de dados em classificação binária desbalanceada."
   ]
  },
  {
   "cell_type": "code",
   "execution_count": null,
   "metadata": {},
   "outputs": [],
   "source": []
  },
  {
   "cell_type": "markdown",
   "metadata": {
    "vscode": {
     "languageId": "plaintext"
    }
   },
   "source": [
    "#### **Curva ROC-AUC**"
   ]
  },
  {
   "cell_type": "markdown",
   "metadata": {},
   "source": [
    "A curva ROC (Receiver Operation Characteristcs) é uma curva em um gráfico que coloca a taxa de false positive (FPR) contra a taxa de true positive (TPR). Perceba que a taxa de true positive é apenas outro nome para o Recall enquanto a taxa de false positive é a fração de falsos positivos em relação a todos as observações classificadas como negativas na nossa base de dados. \n",
    "\n",
    "$$\n",
    "FPR = {\\frac{FP}{FP+TN}}\n",
    "$$\n",
    "\n",
    "<p align='center'>\n",
    "<img src=\"https://blogger.googleusercontent.com/img/b/R29vZ2xl/AVvXsEjhApq1sW6tLaFEXU4jK9g5YzvQBsudIhRUNkSBSYldIPaQ1Rwny1Z7Sj-Rt_8W2CCVKGCMDqu5GoSu4Cao1rAkfwVjgPfINcRuJTGjR-JPXbxY7NtgKQbFYUT2z6IfOAaeZadKVjdvQlkSG7JbDntxsUXWatk1tOUk0XPGBzbnKIRL6f929n8u3Pk1alQf/s1600-rw/roc.png\" width=\"500\"></img>\n",
    "</p>\n",
    "\n",
    "Na curva ROC, a curva ideal é próxima ao canto superior esquerdo. Perceba que próximo deste ponto é **maximizada** a taxa de True Positives e **minimizada** a taxa de False Positives.\n",
    "\n",
    "As vezes queremos resumir a informação fornecida pela curva ROC em um simples número. É aqui que entra a sigla AUC. Ela significa Area Under the Curve (Área abaixo da Curva). Ou seja, podemos calcular a área abaixo da curva ROC para avaliarmos a qualidade do modelo.\n",
    "\n",
    "Intuitivamente, é perceptível que queremos que essa área tenha o maior valor possível. Isso acontece porque desejamos que a curva ROC alcance o mais próximo possível do canto superior esquerdo (no limite, chegando no número 1 do eixo vertical). Dessa forma, quanto maior o valor da AUC, melhor a performance do modelo."
   ]
  },
  {
   "cell_type": "code",
   "execution_count": null,
   "metadata": {},
   "outputs": [],
   "source": []
  },
  {
   "cell_type": "markdown",
   "metadata": {
    "vscode": {
     "languageId": "plaintext"
    }
   },
   "source": [
    "### **O classificador de Bayes**"
   ]
  },
  {
   "cell_type": "code",
   "execution_count": null,
   "metadata": {},
   "outputs": [],
   "source": []
  },
  {
   "cell_type": "markdown",
   "metadata": {
    "vscode": {
     "languageId": "plaintext"
    }
   },
   "source": [
    "## **Problemas de regressão**"
   ]
  },
  {
   "cell_type": "markdown",
   "metadata": {
    "vscode": {
     "languageId": "plaintext"
    }
   },
   "source": [
    "### **O que é um problema de regressão?**"
   ]
  },
  {
   "cell_type": "code",
   "execution_count": null,
   "metadata": {},
   "outputs": [],
   "source": []
  },
  {
   "cell_type": "markdown",
   "metadata": {
    "vscode": {
     "languageId": "plaintext"
    }
   },
   "source": [
    "### **O que é um regressor?**"
   ]
  },
  {
   "cell_type": "code",
   "execution_count": null,
   "metadata": {},
   "outputs": [],
   "source": []
  },
  {
   "cell_type": "markdown",
   "metadata": {
    "vscode": {
     "languageId": "plaintext"
    }
   },
   "source": [
    "### **Métricas de Avaliação para Regressão**"
   ]
  },
  {
   "cell_type": "markdown",
   "metadata": {
    "vscode": {
     "languageId": "plaintext"
    }
   },
   "source": [
    "#### **MSE**"
   ]
  },
  {
   "cell_type": "code",
   "execution_count": null,
   "metadata": {},
   "outputs": [],
   "source": []
  },
  {
   "cell_type": "markdown",
   "metadata": {
    "vscode": {
     "languageId": "plaintext"
    }
   },
   "source": [
    "#### **RMSE**"
   ]
  },
  {
   "cell_type": "code",
   "execution_count": null,
   "metadata": {},
   "outputs": [],
   "source": []
  },
  {
   "cell_type": "markdown",
   "metadata": {
    "vscode": {
     "languageId": "plaintext"
    }
   },
   "source": [
    "#### **MAE**"
   ]
  },
  {
   "cell_type": "code",
   "execution_count": null,
   "metadata": {},
   "outputs": [],
   "source": []
  },
  {
   "cell_type": "markdown",
   "metadata": {
    "vscode": {
     "languageId": "plaintext"
    }
   },
   "source": [
    "#### **$R^{2}$**"
   ]
  },
  {
   "cell_type": "code",
   "execution_count": null,
   "metadata": {},
   "outputs": [],
   "source": []
  },
  {
   "cell_type": "markdown",
   "metadata": {},
   "source": [
    "## **Feature Engineering**"
   ]
  },
  {
   "cell_type": "code",
   "execution_count": null,
   "metadata": {},
   "outputs": [],
   "source": []
  },
  {
   "cell_type": "markdown",
   "metadata": {
    "vscode": {
     "languageId": "plaintext"
    }
   },
   "source": [
    "# **3. Modelos para Problemas de Classificação**"
   ]
  },
  {
   "cell_type": "markdown",
   "metadata": {
    "vscode": {
     "languageId": "plaintext"
    }
   },
   "source": [
    "## **3.1 KNN (K-Nearest-Neighbors)**"
   ]
  },
  {
   "cell_type": "code",
   "execution_count": null,
   "metadata": {},
   "outputs": [],
   "source": []
  },
  {
   "cell_type": "markdown",
   "metadata": {
    "vscode": {
     "languageId": "plaintext"
    }
   },
   "source": [
    "## **3.2 Naive Bayes**"
   ]
  },
  {
   "cell_type": "code",
   "execution_count": null,
   "metadata": {},
   "outputs": [],
   "source": []
  },
  {
   "cell_type": "markdown",
   "metadata": {
    "vscode": {
     "languageId": "plaintext"
    }
   },
   "source": [
    "## **3.3 Regressão Logística**"
   ]
  },
  {
   "cell_type": "markdown",
   "metadata": {
    "vscode": {
     "languageId": "plaintext"
    }
   },
   "source": [
    "### **O que é Regressão Logística?**"
   ]
  },
  {
   "cell_type": "code",
   "execution_count": null,
   "metadata": {},
   "outputs": [],
   "source": []
  },
  {
   "cell_type": "markdown",
   "metadata": {
    "vscode": {
     "languageId": "plaintext"
    }
   },
   "source": [
    "### **Interpretação dos coeficientes**"
   ]
  },
  {
   "cell_type": "code",
   "execution_count": null,
   "metadata": {},
   "outputs": [],
   "source": []
  },
  {
   "cell_type": "markdown",
   "metadata": {
    "vscode": {
     "languageId": "plaintext"
    }
   },
   "source": [
    "### **Aplicações**"
   ]
  },
  {
   "cell_type": "code",
   "execution_count": null,
   "metadata": {},
   "outputs": [],
   "source": []
  },
  {
   "cell_type": "markdown",
   "metadata": {
    "vscode": {
     "languageId": "plaintext"
    }
   },
   "source": [
    "## **3.4 Máquinas de Vetores de Suporte para Classificação (SVC)**"
   ]
  },
  {
   "cell_type": "markdown",
   "metadata": {
    "vscode": {
     "languageId": "plaintext"
    }
   },
   "source": [
    "### **O que é Support Vector Classification (SVC)?**"
   ]
  },
  {
   "cell_type": "code",
   "execution_count": null,
   "metadata": {},
   "outputs": [],
   "source": []
  },
  {
   "cell_type": "markdown",
   "metadata": {
    "vscode": {
     "languageId": "plaintext"
    }
   },
   "source": [
    "### **Funções kernel (linear, polinomial, radial)**"
   ]
  },
  {
   "cell_type": "code",
   "execution_count": null,
   "metadata": {},
   "outputs": [],
   "source": []
  },
  {
   "cell_type": "markdown",
   "metadata": {
    "vscode": {
     "languageId": "plaintext"
    }
   },
   "source": [
    "## **3.5 Árvores de Decisão para Classificação**"
   ]
  },
  {
   "cell_type": "markdown",
   "metadata": {
    "vscode": {
     "languageId": "plaintext"
    }
   },
   "source": [
    "### **Conceito de Decision Trees para Classificação**"
   ]
  },
  {
   "cell_type": "code",
   "execution_count": null,
   "metadata": {},
   "outputs": [],
   "source": []
  },
  {
   "cell_type": "markdown",
   "metadata": {
    "vscode": {
     "languageId": "plaintext"
    }
   },
   "source": [
    "### **Critérios de divisão**"
   ]
  },
  {
   "cell_type": "markdown",
   "metadata": {
    "vscode": {
     "languageId": "plaintext"
    }
   },
   "source": [
    "#### **Critério de Gini**"
   ]
  },
  {
   "cell_type": "code",
   "execution_count": null,
   "metadata": {},
   "outputs": [],
   "source": []
  },
  {
   "cell_type": "markdown",
   "metadata": {
    "vscode": {
     "languageId": "plaintext"
    }
   },
   "source": [
    "#### **Entropia**"
   ]
  },
  {
   "cell_type": "code",
   "execution_count": null,
   "metadata": {},
   "outputs": [],
   "source": []
  },
  {
   "cell_type": "markdown",
   "metadata": {
    "vscode": {
     "languageId": "plaintext"
    }
   },
   "source": [
    "### **Poda e Overfitting**"
   ]
  },
  {
   "cell_type": "code",
   "execution_count": null,
   "metadata": {},
   "outputs": [],
   "source": []
  },
  {
   "cell_type": "markdown",
   "metadata": {
    "vscode": {
     "languageId": "plaintext"
    }
   },
   "source": [
    "## **3.6 Métodos de Ensemble para Classificação**"
   ]
  },
  {
   "cell_type": "markdown",
   "metadata": {
    "vscode": {
     "languageId": "plaintext"
    }
   },
   "source": [
    "### **Bagging para Classificação**"
   ]
  },
  {
   "cell_type": "code",
   "execution_count": null,
   "metadata": {},
   "outputs": [],
   "source": []
  },
  {
   "cell_type": "markdown",
   "metadata": {
    "vscode": {
     "languageId": "plaintext"
    }
   },
   "source": [
    "### **Boosting para Classificação**"
   ]
  },
  {
   "cell_type": "markdown",
   "metadata": {
    "vscode": {
     "languageId": "plaintext"
    }
   },
   "source": [
    "#### **AdaBoost Classifier**"
   ]
  },
  {
   "cell_type": "code",
   "execution_count": null,
   "metadata": {},
   "outputs": [],
   "source": []
  },
  {
   "cell_type": "markdown",
   "metadata": {
    "vscode": {
     "languageId": "plaintext"
    }
   },
   "source": [
    "#### **Gradient Boosting Classifier**"
   ]
  },
  {
   "cell_type": "code",
   "execution_count": null,
   "metadata": {},
   "outputs": [],
   "source": []
  },
  {
   "cell_type": "markdown",
   "metadata": {
    "vscode": {
     "languageId": "plaintext"
    }
   },
   "source": [
    "#### **Stochastic Gradient Boosting Classifier**"
   ]
  },
  {
   "cell_type": "code",
   "execution_count": null,
   "metadata": {},
   "outputs": [],
   "source": []
  },
  {
   "cell_type": "markdown",
   "metadata": {
    "vscode": {
     "languageId": "plaintext"
    }
   },
   "source": [
    "#### **XGBoost Classifier**"
   ]
  },
  {
   "cell_type": "code",
   "execution_count": null,
   "metadata": {},
   "outputs": [],
   "source": []
  },
  {
   "cell_type": "markdown",
   "metadata": {
    "vscode": {
     "languageId": "plaintext"
    }
   },
   "source": [
    "### **Stacking para Classificação**"
   ]
  },
  {
   "cell_type": "code",
   "execution_count": null,
   "metadata": {},
   "outputs": [],
   "source": []
  },
  {
   "cell_type": "markdown",
   "metadata": {
    "vscode": {
     "languageId": "plaintext"
    }
   },
   "source": [
    "## **3.7 Análise Discriminante**"
   ]
  },
  {
   "cell_type": "markdown",
   "metadata": {
    "vscode": {
     "languageId": "plaintext"
    }
   },
   "source": [
    "### **Análise Discriminante Linear (LDA)**"
   ]
  },
  {
   "cell_type": "code",
   "execution_count": null,
   "metadata": {},
   "outputs": [],
   "source": []
  },
  {
   "cell_type": "markdown",
   "metadata": {
    "vscode": {
     "languageId": "plaintext"
    }
   },
   "source": [
    "### **Análise Discriminante Quadrática (QDA)**"
   ]
  },
  {
   "cell_type": "code",
   "execution_count": null,
   "metadata": {},
   "outputs": [],
   "source": []
  },
  {
   "cell_type": "markdown",
   "metadata": {
    "vscode": {
     "languageId": "plaintext"
    }
   },
   "source": [
    "## **Projeto de Classificação**"
   ]
  },
  {
   "cell_type": "markdown",
   "metadata": {
    "vscode": {
     "languageId": "plaintext"
    }
   },
   "source": [
    "**Objetivos:**\n",
    "\n",
    "1. Comparação entre os modelos\n",
    "\n",
    "2. Aprender a como escolher o melhor modelo para um problema\n",
    "\n",
    "..."
   ]
  },
  {
   "cell_type": "markdown",
   "metadata": {
    "vscode": {
     "languageId": "plaintext"
    }
   },
   "source": [
    "# **4. Modelos para Problemas de Regressão**"
   ]
  },
  {
   "cell_type": "markdown",
   "metadata": {
    "vscode": {
     "languageId": "plaintext"
    }
   },
   "source": [
    "## **4.1 Modelos Lineares para Regressão**"
   ]
  },
  {
   "cell_type": "markdown",
   "metadata": {
    "vscode": {
     "languageId": "plaintext"
    }
   },
   "source": [
    "### **Regressão Linear Simples**"
   ]
  },
  {
   "cell_type": "code",
   "execution_count": null,
   "metadata": {},
   "outputs": [],
   "source": []
  },
  {
   "cell_type": "markdown",
   "metadata": {
    "vscode": {
     "languageId": "plaintext"
    }
   },
   "source": [
    "### **Regressão Linear Múltipla**"
   ]
  },
  {
   "cell_type": "code",
   "execution_count": null,
   "metadata": {},
   "outputs": [],
   "source": []
  },
  {
   "cell_type": "markdown",
   "metadata": {
    "vscode": {
     "languageId": "plaintext"
    }
   },
   "source": [
    "### **Regressão com Regularização**"
   ]
  },
  {
   "cell_type": "markdown",
   "metadata": {
    "vscode": {
     "languageId": "plaintext"
    }
   },
   "source": [
    "#### **Lasso Regression**"
   ]
  },
  {
   "cell_type": "code",
   "execution_count": null,
   "metadata": {},
   "outputs": [],
   "source": []
  },
  {
   "cell_type": "markdown",
   "metadata": {
    "vscode": {
     "languageId": "plaintext"
    }
   },
   "source": [
    "#### **Ridge Regression**"
   ]
  },
  {
   "cell_type": "code",
   "execution_count": null,
   "metadata": {},
   "outputs": [],
   "source": []
  },
  {
   "cell_type": "markdown",
   "metadata": {
    "vscode": {
     "languageId": "plaintext"
    }
   },
   "source": [
    "## **4.2 Máquinas de Vetores de Suporte para Regressão (SVR)**"
   ]
  },
  {
   "cell_type": "markdown",
   "metadata": {
    "vscode": {
     "languageId": "plaintext"
    }
   },
   "source": [
    "### **O que é Support Vector Regression (SVR)?**"
   ]
  },
  {
   "cell_type": "code",
   "execution_count": null,
   "metadata": {},
   "outputs": [],
   "source": []
  },
  {
   "cell_type": "markdown",
   "metadata": {
    "vscode": {
     "languageId": "plaintext"
    }
   },
   "source": [
    "### **Aplicação e Hiperparâmetros**"
   ]
  },
  {
   "cell_type": "code",
   "execution_count": null,
   "metadata": {},
   "outputs": [],
   "source": []
  },
  {
   "cell_type": "markdown",
   "metadata": {
    "vscode": {
     "languageId": "plaintext"
    }
   },
   "source": [
    "## **4.3 Árvores de Regressão**"
   ]
  },
  {
   "cell_type": "markdown",
   "metadata": {
    "vscode": {
     "languageId": "plaintext"
    }
   },
   "source": [
    "### **Conceito de Decision Trees para Regressão**"
   ]
  },
  {
   "cell_type": "code",
   "execution_count": null,
   "metadata": {},
   "outputs": [],
   "source": []
  },
  {
   "cell_type": "markdown",
   "metadata": {
    "vscode": {
     "languageId": "plaintext"
    }
   },
   "source": [
    "### **Critérios de divisão**"
   ]
  },
  {
   "cell_type": "markdown",
   "metadata": {
    "vscode": {
     "languageId": "plaintext"
    }
   },
   "source": [
    "#### **MSE**"
   ]
  },
  {
   "cell_type": "code",
   "execution_count": null,
   "metadata": {},
   "outputs": [],
   "source": []
  },
  {
   "cell_type": "markdown",
   "metadata": {
    "vscode": {
     "languageId": "plaintext"
    }
   },
   "source": [
    "#### **MAE**"
   ]
  },
  {
   "cell_type": "code",
   "execution_count": null,
   "metadata": {},
   "outputs": [],
   "source": []
  },
  {
   "cell_type": "markdown",
   "metadata": {
    "vscode": {
     "languageId": "plaintext"
    }
   },
   "source": [
    "### **Poda e Overfitting**"
   ]
  },
  {
   "cell_type": "code",
   "execution_count": null,
   "metadata": {},
   "outputs": [],
   "source": []
  },
  {
   "cell_type": "markdown",
   "metadata": {
    "vscode": {
     "languageId": "plaintext"
    }
   },
   "source": [
    "## **4.4 Métodos de Ensemble para Regressão**"
   ]
  },
  {
   "cell_type": "markdown",
   "metadata": {
    "vscode": {
     "languageId": "plaintext"
    }
   },
   "source": [
    "### **Bagging para Regressão**"
   ]
  },
  {
   "cell_type": "code",
   "execution_count": null,
   "metadata": {},
   "outputs": [],
   "source": []
  },
  {
   "cell_type": "markdown",
   "metadata": {
    "vscode": {
     "languageId": "plaintext"
    }
   },
   "source": [
    "### **Boosting para Regressão**"
   ]
  },
  {
   "cell_type": "markdown",
   "metadata": {
    "vscode": {
     "languageId": "plaintext"
    }
   },
   "source": [
    "#### **AdaBoost Regressor**"
   ]
  },
  {
   "cell_type": "code",
   "execution_count": null,
   "metadata": {},
   "outputs": [],
   "source": []
  },
  {
   "cell_type": "markdown",
   "metadata": {
    "vscode": {
     "languageId": "plaintext"
    }
   },
   "source": [
    "#### **Gradient Boosting Regressor**"
   ]
  },
  {
   "cell_type": "code",
   "execution_count": null,
   "metadata": {},
   "outputs": [],
   "source": []
  },
  {
   "cell_type": "markdown",
   "metadata": {
    "vscode": {
     "languageId": "plaintext"
    }
   },
   "source": [
    "#### **Stochastic Gradient Boosting Regressor**"
   ]
  },
  {
   "cell_type": "code",
   "execution_count": null,
   "metadata": {},
   "outputs": [],
   "source": []
  },
  {
   "cell_type": "markdown",
   "metadata": {
    "vscode": {
     "languageId": "plaintext"
    }
   },
   "source": [
    "#### **XGBoost Regressor**"
   ]
  },
  {
   "cell_type": "code",
   "execution_count": null,
   "metadata": {},
   "outputs": [],
   "source": []
  },
  {
   "cell_type": "markdown",
   "metadata": {
    "vscode": {
     "languageId": "plaintext"
    }
   },
   "source": [
    "## **Projeto de Regressão**"
   ]
  },
  {
   "cell_type": "markdown",
   "metadata": {
    "vscode": {
     "languageId": "plaintext"
    }
   },
   "source": [
    "**Objetivos:**\n",
    "\n",
    "1. Comparação entre os modelos\n",
    "\n",
    "2. Aprender a como escolher o melhor modelo para um problema\n",
    "\n",
    "..."
   ]
  },
  {
   "cell_type": "markdown",
   "metadata": {},
   "source": [
    "# **5. Aprendizado Não Supervisionado**"
   ]
  },
  {
   "cell_type": "code",
   "execution_count": null,
   "metadata": {},
   "outputs": [],
   "source": []
  },
  {
   "cell_type": "markdown",
   "metadata": {},
   "source": [
    "# **6. Sistemas de recomendação**"
   ]
  },
  {
   "cell_type": "code",
   "execution_count": null,
   "metadata": {},
   "outputs": [],
   "source": []
  }
 ],
 "metadata": {
  "kernelspec": {
   "display_name": "Python 3",
   "language": "python",
   "name": "python3"
  },
  "language_info": {
   "codemirror_mode": {
    "name": "ipython",
    "version": 3
   },
   "file_extension": ".py",
   "mimetype": "text/x-python",
   "name": "python",
   "nbconvert_exporter": "python",
   "pygments_lexer": "ipython3",
   "version": "3.10.12"
  }
 },
 "nbformat": 4,
 "nbformat_minor": 2
}
