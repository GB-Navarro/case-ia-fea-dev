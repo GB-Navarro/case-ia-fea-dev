{
 "cells": [
  {
   "cell_type": "markdown",
   "metadata": {},
   "source": [
    "# **1. Introdução ao Aprendizado de Máquina**"
   ]
  },
  {
   "cell_type": "markdown",
   "metadata": {
    "vscode": {
     "languageId": "plaintext"
    }
   },
   "source": [
    "## **Antes de comerçarmos:**"
   ]
  },
  {
   "cell_type": "markdown",
   "metadata": {
    "vscode": {
     "languageId": "plaintext"
    }
   },
   "source": [
    "Neste curso, você será exposto a diversos termos expressos em notação matemática. Buscaremos sempre ilustrar de forma intuitiva o significado de cada uma dessas notações. No entanto, para avançar no curso, é fundamental dedicar um tempo para compreendê-las, pois, à medida que os modelos se tornam mais complexos, nem sempre será possível oferecer uma explicação puramente intuitiva.\n",
    "\n",
    "Se você não está familiarizado com notação matemática ou sente receio ao vê-la, não se preocupe! Pense nela como uma forma compacta de expressar muitas informações em poucas palavras — como uma linguagem própria da matemática. Encare isso como o aprendizado de um novo idioma. \n",
    "\n",
    "Boa sorte!"
   ]
  },
  {
   "cell_type": "markdown",
   "metadata": {
    "vscode": {
     "languageId": "plaintext"
    }
   },
   "source": [
    "## **O que é Inteligência Artificial?**"
   ]
  },
  {
   "cell_type": "code",
   "execution_count": null,
   "metadata": {
    "vscode": {
     "languageId": "plaintext"
    }
   },
   "outputs": [],
   "source": []
  },
  {
   "cell_type": "markdown",
   "metadata": {
    "vscode": {
     "languageId": "plaintext"
    }
   },
   "source": [
    "## **Diferenças entre IA, Machine Learning e Deep Learning**"
   ]
  },
  {
   "cell_type": "code",
   "execution_count": null,
   "metadata": {
    "vscode": {
     "languageId": "plaintext"
    }
   },
   "outputs": [],
   "source": []
  },
  {
   "cell_type": "markdown",
   "metadata": {
    "vscode": {
     "languageId": "plaintext"
    }
   },
   "source": [
    "## **Definições iniciais**"
   ]
  },
  {
   "cell_type": "markdown",
   "metadata": {
    "vscode": {
     "languageId": "plaintext"
    }
   },
   "source": [
    "### **O que são dados?**"
   ]
  },
  {
   "cell_type": "markdown",
   "metadata": {
    "vscode": {
     "languageId": "plaintext"
    }
   },
   "source": [
    "Imagine que você quer entender melhor um grupo de pessoas. \n",
    "\n",
    "Para isso, você decide anotar algumas informações sobre cada uma delas, como altura *(em cm)*, peso *(em kg)* e idade *(em anos)*. Você observa uma pessoa e registra esses três valores. Depois, faz o mesmo com outra pessoa e assim por diante.\n",
    "\n",
    "Cada conjunto de informações que você registra (neste caso, altura, peso e idade) constitui um **dado**, isto é,uma representação de algo do mundo real que queremos estudar ou analisar.\n",
    "\n",
    "Suponha que coletamos os seguintes dados:\n",
    "\n",
    "- Pessoa 1: 170cm de altura, 70kg e 25 anos.\n",
    "\n",
    "- Pessoa 2: 160cm de altura, 55kg e 30 anos.\n",
    "\n",
    "- Pessoa 3: 180cm de altura, 80kg e 28 anos.\n",
    "\n",
    "Perceba que, com base nessas três informações podemos representar cada pessoa com três números, veja:\n",
    "\n",
    "- Pessoa 1 -> (170, 70, 25).\n",
    "\n",
    "- Pessoa 2 -> (160, 55, 30).\n",
    "\n",
    "- Pessoa 3 -> (180, 80, 28).\n",
    "  \n",
    "Cada linha acima é um conjunto de informações sobre uma pessoa.\n",
    "\n",
    "**Assim, o conjunto de dados que possuímos é: $$\\{(170,70,25),(160,55,30),(180,80,28)\\}$$**\n",
    " "
   ]
  },
  {
   "cell_type": "markdown",
   "metadata": {
    "vscode": {
     "languageId": "plaintext"
    }
   },
   "source": [
    "### **O que são características?**"
   ]
  },
  {
   "cell_type": "markdown",
   "metadata": {
    "vscode": {
     "languageId": "plaintext"
    }
   },
   "source": [
    "Agora, perceba que cada dado é formado por três números diferentes. Cada um deles representa um tipo específico de informação:\n",
    "\n",
    "- O primeiro número indica a **altura**.\n",
    "\n",
    "- O segundo número indica o **peso**.\n",
    "\n",
    "- O terceiro número indica a **idade**.\n",
    "\n",
    "Chamamos essas informações individuais de **características**. Elas são os aspectos que escolhemos para descrever cada pessoa.\n",
    "\n",
    "Se tivéssemos escolhido outras informações, como cor dos olhos ou cidade onde mora, teríamos características diferetentes. Assim, **as características são os elementos que compõem cada dado.**"
   ]
  },
  {
   "cell_type": "markdown",
   "metadata": {
    "vscode": {
     "languageId": "plaintext"
    }
   },
   "source": [
    "### **O que é um espaço de características?**"
   ]
  },
  {
   "cell_type": "markdown",
   "metadata": {
    "vscode": {
     "languageId": "plaintext"
    }
   },
   "source": [
    "Agora que compreendemos que, no exemplo que estamos usando, cada pessoa é caracterizada por três atributos (altura, peso e idade), podemos pensar em um jeito de visualizar essas informações.\n",
    "\n",
    "Imagine um gráfico em que cada ponto representa uma pessoa, sendo descrita por três características: altura, peso e idade:\n",
    "\n",
    "- O **eixo X** representa a altura.\n",
    "\n",
    "- O **eixo Y** representa o peso.\n",
    "\n",
    "- O **eixo Z** representa a idade.\n",
    "\n",
    "Cada pessoa pode ser representada por um ponto dentro desse espaço. **Esse espaço, onde todas as combinações possíveis de altura, peso e idade podem existir—isto é, onde essas características podem assumir quaisquer valores dentro de um intervalo permitido—é chamado de espaço de características.**  \n",
    "\n",
    "Se tivéssemos apenas altura e peso, nosso espaço teria apenas dois eixos, como um gráfico bidimensional. Se adicionássemos mais características, precisaríamos de mais dimensões para representar tudo.\n",
    "\n",
    "💡 Dica: Tente visualizar esse conceito de forma gráfica: imagine um ponto em um espaço tridimensional, onde o eixo X representa a altura, o eixo Y representa o peso e o eixo Z representa a idade. Esse ponto corresponde a uma pessoa dentro do nosso conjunto de dados. No início, pode parecer desafiador imaginar esse espaço, mas compreender essa ideia tornará o aprendizado muito mais intuitivo no futuro!"
   ]
  },
  {
   "cell_type": "markdown",
   "metadata": {
    "vscode": {
     "languageId": "plaintext"
    }
   },
   "source": [
    "### **O que são vetores de características?**"
   ]
  },
  {
   "cell_type": "markdown",
   "metadata": {
    "vscode": {
     "languageId": "plaintext"
    }
   },
   "source": [
    "Agora que entendemos que cada pessoa é representada por um ponto dentro do espaço de características, podemos dar um nome especial para essa representação: **vetor de características**\n",
    "\n",
    "Um vetor de características é simplesmente um conjunto de números que descreve uma pessoa dentro desse espaço. Podemos imaginá-lo como uma \"seta\" que parte da origem do espaço de características e aponta diretamente para a posição (coordenadas) correspondente a essa pessoa.\n",
    "\n",
    "Por exemplo, para a Pessoa 1, o vetor de características é $(170, 70, 25)$, o que significa:\n",
    "\n",
    "- Altura: **170cm**.\n",
    "\n",
    "- Peso: **70kg**.\n",
    "\n",
    "- Idade: **25 anos**.\n",
    "\n",
    "Se pensarmos em um gráfico tridimensional, onde cada eixo representa uma característica (altura, peso e idade), esse vetor nos dá a posição exata da pessoa nesse espaço. A \"seta\" que parte da origem até esse ponto é uma forma intuitiva de visualizar como cada observação do nosso conjunto de dados pode ser representada matematicamente.\n",
    "\n",
    "Em resumo, vetor de características é um termo matemático que usamos para representar cada observação dentro do nosso conjunto de dados.\n",
    "\n",
    "💡 Dica: Realmente tente imaginar que cada pessoa do nosso conjunto de dados é representada por uma seta partindo da origem e apontando para um ponto no espaço tridimensional. Essa seta nada mais é do que o vetor de características, que indica a posição exata da pessoa nesse espaço. No começo, pode ser desafiador visualizar essa ideia, mas pensar nos vetores como \"setas direcionadas\" ajudará a compreender melhor como os dados são organizados e analisados matematicamente!"
   ]
  },
  {
   "cell_type": "markdown",
   "metadata": {
    "vscode": {
     "languageId": "plaintext"
    }
   },
   "source": [
    "## **Formalizando as definições iniciais**"
   ]
  },
  {
   "cell_type": "markdown",
   "metadata": {
    "vscode": {
     "languageId": "plaintext"
    }
   },
   "source": [
    "Agora que construímos uma boa intuição, podemos formalizar esses conceitos matematicamente — mantendo o formalismo apenas no nível necessário por enquanto."
   ]
  },
  {
   "cell_type": "markdown",
   "metadata": {
    "vscode": {
     "languageId": "plaintext"
    }
   },
   "source": [
    "### **Dados**"
   ]
  },
  {
   "cell_type": "markdown",
   "metadata": {
    "vscode": {
     "languageId": "plaintext"
    }
   },
   "source": [
    "- São um conjunto de observações $X = \\{x_{1}, x_{2}, ..., x_{n}\\}$, onde cada $x_{i}$ é uma observação.\n",
    "\n",
    "- No nosso exemplo, os dados são o conjunto de pessoas que analisamos."
   ]
  },
  {
   "cell_type": "markdown",
   "metadata": {
    "vscode": {
     "languageId": "plaintext"
    }
   },
   "source": [
    "### **Características**"
   ]
  },
  {
   "cell_type": "markdown",
   "metadata": {
    "vscode": {
     "languageId": "plaintext"
    }
   },
   "source": [
    "- São os atributos que usamos para descrever cada observação. \n",
    "  \n",
    "- Por exemplo, para a observação: $x_{i} = (x_{i1}, x_{i2},...,x_{id})$, cada valor $x_{ij}$ representa um atributo específico da observação $x_{i}$ *(ex: altura, peso, idade)*, onde $j$ varia de $1$ até $d$."
   ]
  },
  {
   "cell_type": "markdown",
   "metadata": {
    "vscode": {
     "languageId": "plaintext"
    }
   },
   "source": [
    "### **Espaço de características**"
   ]
  },
  {
   "cell_type": "markdown",
   "metadata": {
    "vscode": {
     "languageId": "plaintext"
    }
   },
   "source": [
    "- É o conjunto de todas as possíveis combinações dos atributos que utilizamos para descrever uma observação.\n",
    "\n",
    "- Se cada observação é descrita por $d$ características, esse espaço contém todas as combinações possíveis desses $d$ atributos e é matematicamente representado por $R^{d}$.\n",
    "\n",
    "- Intuitivamente, podemos imaginar esse espaço como um ambiente onde cada observação ocupa uma posição única com base nos valores de suas características."
   ]
  },
  {
   "cell_type": "markdown",
   "metadata": {
    "vscode": {
     "languageId": "plaintext"
    }
   },
   "source": [
    "### **Vetores de características**"
   ]
  },
  {
   "cell_type": "markdown",
   "metadata": {
    "vscode": {
     "languageId": "plaintext"
    }
   },
   "source": [
    "- Representam cada observação dentro do espaço de características.\n",
    "\n",
    "- No nosso exemplo, a **Pessoa 1** é representada pelo vetor: $x_{1} = (170,70,25) \\in R^{3}$.\n",
    "\n",
    "- De forma geral, para um espaço de características com $d$ dimensões, cada observação é um vetor da forma: $x_{i} = (x_{i1},x_{i2},...,x_{id}) \\in R^{d}$, onde $i$ indica o número da observação e cada índice $j$ (com $j \\in \\{1,2,...,d\\}$) representa uma característica dessa observação."
   ]
  },
  {
   "cell_type": "markdown",
   "metadata": {
    "vscode": {
     "languageId": "plaintext"
    }
   },
   "source": [
    "### 💡 Dica:\n",
    "\n",
    "Não se preocupe se essas definições parecerem um pouco abstratas no começo! Você pode continuar avançando no curso sem dominar completamente essas notações matemáticas. No entanto, quanto mais confortável você estiver com essas notações, mais rápido será seu progresso e mais profundo será seu entendimento dos próximos tópicos.\n",
    "\n",
    "Se algo não ficou claro, pergunte ao responsável pelo case e revise essas definições sempre que for estudar. Criar familiaridade com essas notaçãos ao longo do tempo tornará o aprendizado muito mais natural e intuitivo!"
   ]
  },
  {
   "cell_type": "markdown",
   "metadata": {
    "vscode": {
     "languageId": "plaintext"
    }
   },
   "source": [
    "## **Tipos de aprendizado de máquina**"
   ]
  },
  {
   "cell_type": "code",
   "execution_count": null,
   "metadata": {
    "vscode": {
     "languageId": "plaintext"
    }
   },
   "outputs": [],
   "source": []
  }
 ],
 "metadata": {
  "language_info": {
   "name": "python"
  }
 },
 "nbformat": 4,
 "nbformat_minor": 2
}
