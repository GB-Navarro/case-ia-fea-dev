{
 "cells": [
  {
   "cell_type": "markdown",
   "metadata": {},
   "source": [
    "# Case de Treino IA - Machine Learning\n",
    "\n",
    "Neste case você terá a oportunidade de praticar técnicas fundamentais para se capacitar na área de Machine Learning.\n",
    "\n",
    "Sumário:\n",
    "1. Tratamento de dados\n",
    "2. Análise exploratória de dados (EDA)\n",
    "3. Pré-Processamento\n",
    "    -  Feature Engineering\n",
    "4. Modelos de Classificação\n",
    "    - K-Nearest Neighbors (KNN)\n",
    "    - Regressão Logística\n",
    "    - Naive Bayes\n",
    "    - Métricas de Avaliação\n",
    "5. Modelos de Regressão\n",
    "    - Linear Regression\n",
    "    - Ridge\n",
    "    - Lasso\n",
    "    - Métricas de Avaliação\n",
    "6. Modelos de Arvore\n",
    "7. Boosting models\n",
    "8. Support Vector Machines\n",
    "9. Otimização de Modelos\n",
    "10. Aprendizado não supervisionado\n",
    "    - Clustering\n",
    "    - Redução de Dimensionalidade\n",
    "    - Regras de Associação\n",
    "11. Séries Temporais?\n",
    "\n",
    "----\n",
    "## Referências (mais referências ao longo do case):\n",
    "\n",
    "- [Livro: Introduction to Machine Learning with Python](https://drive.google.com/drive/u/1/folders/10VdWCaR7qZ40K9rC5gWviKWMkMPzK8FB)\n",
    "- [Supervised learning with scikit-learn](https://app.datacamp.com/learn/courses/machine-learning-with-scikit-learn)\n",
    "- [Machine Learning codes and concepts](https://www.youtube.com/watch?v=CsHvAPWbt-Q&list=PL2GWo47BFyUNeLIH127rVovSqKFm1rk07)"
   ]
  },
  {
   "cell_type": "markdown",
   "metadata": {},
   "source": [
    "## 0-) Importação dos dados\n",
    "\n",
    "Na primeira parte do case de IA iremos utilizar a base de dados [Loan Aproval Classification Dataset](https://www.kaggle.com/datasets/taweilo/loan-approval-classification-data/data).\n",
    "\n",
    "Está é uma base com a temática de risco de crédito. Ela contém informações detalhadas relacionadas a perfis financeiros e características pessoais e socio-econômicas de indivíduos, estruturadas de forma a facilitar a análise de risco de crédito e a predição da aprovação de empréstimos.\n",
    "\n",
    "A base de dados está em um arquivo csv chamado \"dataset_\" na mesma pasta deste arquivo notebook."
   ]
  },
  {
   "cell_type": "markdown",
   "metadata": {},
   "source": [
    "### a-) Importe a base de dados"
   ]
  },
  {
   "cell_type": "code",
   "execution_count": 15,
   "metadata": {},
   "outputs": [
    {
     "name": "stdout",
     "output_type": "stream",
     "text": [
      "<class 'pandas.core.frame.DataFrame'>\n",
      "RangeIndex: 45005 entries, 0 to 45004\n",
      "Data columns (total 14 columns):\n",
      " #   Column                          Non-Null Count  Dtype  \n",
      "---  ------                          --------------  -----  \n",
      " 0   person_age                      45000 non-null  float64\n",
      " 1   person_gender                   45000 non-null  object \n",
      " 2   person_education                45000 non-null  object \n",
      " 3   person_income                   45000 non-null  float64\n",
      " 4   person_emp_exp                  45000 non-null  float64\n",
      " 5   person_home_ownership           45000 non-null  object \n",
      " 6   loan_amnt                       45000 non-null  float64\n",
      " 7   loan_intent                     45000 non-null  object \n",
      " 8   loan_int_rate                   45000 non-null  object \n",
      " 9   loan_percent_income             45000 non-null  object \n",
      " 10  cb_person_cred_hist_length      45000 non-null  float64\n",
      " 11  credit_score                    45000 non-null  float64\n",
      " 12  previous_loan_defaults_on_file  45000 non-null  object \n",
      " 13  loan_status                     45000 non-null  float64\n",
      "dtypes: float64(7), object(7)\n",
      "memory usage: 4.8+ MB\n"
     ]
    }
   ],
   "source": [
    "import pandas as pd\n",
    "df = pd.read_csv('dataset_1.csv')\n",
    "df.info()"
   ]
  },
  {
   "cell_type": "markdown",
   "metadata": {},
   "source": [
    "### b-) Faça uma investigação inicial dos seus dados\n",
    "\n",
    "A ideia aqui é ter uma primeira ideia da base que voce está trabalhando. Aqui voce deve pensar nas coisas mais simples acerca do dataset. Pense em responder perguntas iniciais como:\n",
    "\n",
    "1. Quantas observações eu possuo na minha base? Quantas variáveis?\n",
    "2. Quais tipos de variáveis eu possuo? São variáveis categoricas, númericas, booleanas, etc...?\n",
    "3. Tenho algum valor faltante (NA)?\n",
    "4. Qual a minha variável target? Quais são minhas features?\n",
    "\n",
    "Pense nesta etapa como uma possibilidade de se introduzir na problemática do case."
   ]
  },
  {
   "cell_type": "code",
   "execution_count": null,
   "metadata": {},
   "outputs": [],
   "source": []
  },
  {
   "cell_type": "markdown",
   "metadata": {},
   "source": [
    "## 1-) Tratamento dos dados\n",
    "\n",
    "Feita uma observação inicial da sua base de dados, agora é a hora de fazer uma investigação mais profunda e adquirir um entendimento completo sobre os dados que você está trabalhando.\n",
    "\n",
    "Nesta etapa você deve fazer toda a limpeza da base e identificar possíveis problemas de formatação ou valores estranhos. Além de deixar a base em uma formato agradável para o restante do case.\n",
    "\n",
    "Algumas perguntas norteadoras são:\n",
    "\n",
    "1. Meus dados estão nos formatos corretos?\n",
    "2. O que fazer com valores faltantes?\n",
    "3. Há algum valor que não faça sentido? Oque fazer com eles caso a resposta seja afirmativa?\n",
    "\n",
    "\n",
    "**Não subestime a importancia da etapa de tratamento de dados**. Ela é uma das etapas mais importantes ao se trabalhar com um problema de Machine Learning!"
   ]
  },
  {
   "cell_type": "code",
   "execution_count": null,
   "metadata": {},
   "outputs": [],
   "source": []
  },
  {
   "cell_type": "markdown",
   "metadata": {},
   "source": [
    "## 2-) Análise exploratória de dados (EDA)\n",
    "\n",
    "A Análise Exploratória de Dados (EDA - Exploratory Data Analysis) é o processo inicial de investigação de um conjunto de dados para entender sua estrutura, identificar padrões, detectar anomalias e verificar relações entre variáveis. Sua importância está em fornecer insights fundamentais para modelagens futuras, garantindo que os dados sejam limpos, compreensíveis e relevantes para a tomada de decisão, evitando erros e extraindo o máximo de informação possível.\n",
    "\n",
    "Neste sentido, a Análise Exploratória de Dados é um passo que complementa o processo iniciado no tratamento dos dados. Uma boa EDA geralmente foca em criar gráficos e estatísticas descrítivas que tragam alguma informação relevante dos dados.\n",
    "\n",
    "Referência: [What is Exploratory Data Analysis](https://medium.com/towards-data-science/exploratory-data-analysis-8fc1cb20fd15)"
   ]
  },
  {
   "cell_type": "markdown",
   "metadata": {},
   "source": [
    "### a-) Plote um histograma para cada variável númerica"
   ]
  },
  {
   "cell_type": "code",
   "execution_count": null,
   "metadata": {},
   "outputs": [],
   "source": []
  },
  {
   "cell_type": "markdown",
   "metadata": {},
   "source": [
    "### b-) Plote um gráfico de barras para cada variável categórica"
   ]
  },
  {
   "cell_type": "code",
   "execution_count": null,
   "metadata": {},
   "outputs": [],
   "source": []
  },
  {
   "cell_type": "markdown",
   "metadata": {},
   "source": [
    "### c-) Plote um boxplot para as variáveis numéricas"
   ]
  },
  {
   "cell_type": "code",
   "execution_count": null,
   "metadata": {},
   "outputs": [],
   "source": []
  },
  {
   "cell_type": "markdown",
   "metadata": {},
   "source": [
    "### d-) Plote um heatmap de correlação entre as variáveis"
   ]
  },
  {
   "cell_type": "code",
   "execution_count": null,
   "metadata": {},
   "outputs": [],
   "source": []
  },
  {
   "cell_type": "markdown",
   "metadata": {},
   "source": [
    "### e-) Explore outros gráficos e abordagens!\n",
    "\n",
    "Dedique um tempo para fazer uma boa Análise Exploratória dos seus dados. Uma boa EDA é fundamental para um bom case de Machine Learning!\n",
    "\n",
    "Os gráficos solicitados nos itens anteriores são sugestões de gráficos comumente utilizados em EDAs, mas eles não são os únicos. Há diversos outros gráficos que podem oferecer informações valiosas dos dados como gráficos de pizza e scatter plots.\n",
    "\n",
    "Além de gráficos, pense em outras formas de extrair informações dos dados. Nesta etapa (e em muitas outras) a estatística é sua grande aliada!"
   ]
  },
  {
   "cell_type": "code",
   "execution_count": null,
   "metadata": {},
   "outputs": [],
   "source": []
  },
  {
   "cell_type": "markdown",
   "metadata": {},
   "source": [
    "## 3-) Pré-Processamento\n",
    "\n",
    "### Feature Engineering\n",
    "\n",
    "Feature Engineering é o processo de criação, transformação e seleção de variáveis (features) para melhorar o desempenho de modelos de Machine Learning. Ele envolve técnicas como normalização, encoding de variáveis categóricas, extração de novas features e redução de dimensionalidade, permitindo que os algoritmos capturem padrões mais relevantes nos dados e aumentem a precisão das previsões.\n",
    "\n",
    "A etapa de Feature Engineering é uma continuação da Análise Exploratória de Dados (EDA). Enquanto a EDA extrai informações valiosas dos dados, a Feature Engineering transforma essas informações em variáveis estruturadas e otimizadas para que o modelo de machine learning possa interpretá-las de forma mais eficiente.\n",
    "\n",
    "Os modelos de Machine Learning requerem que os dados estejam em formatos específicos para que possam interpretá-los corretamente. Por isso, é essencial realizar uma boa Feature Engineering para transformar os dados de maneira adequada e otimizar o desempenho do modelo.\n",
    "\n",
    "Referência:\n",
    "\n",
    "[Feature Engineering for Machine learning with Python](https://www.datacamp.com/courses/feature-engineering-for-machine-learning-in-python)"
   ]
  },
  {
   "cell_type": "markdown",
   "metadata": {},
   "source": [
    "### Encoding\n",
    "\n",
    "Muitos algoritmos não só conseguem trabalhar com dados numéricos. Assim, um tratamento necessário é a transformação de variáveis categóricas em numéricas. \n",
    "\n",
    "São formas de encoding mais comuns:\n",
    "- Dummy encoding\n",
    "- One-hot encoding\n",
    "- Label encoding\n",
    "\n",
    "Dê uma pesquisada nesses métodos e veja qual a forma mais adequada para as variáveis categóricas\n",
    "\n",
    "Referência:\n",
    "\n",
    "[Categorical Data Encoding Techniques](https://medium.com/aiskunks/categorical-data-encoding-techniques-d6296697a40f)"
   ]
  },
  {
   "cell_type": "markdown",
   "metadata": {},
   "source": [
    "### a-) Transforme a coluna de sexo em númerica (dummie). Faça com que valores female assumam valores igual a 1 e male seja igual a 0"
   ]
  },
  {
   "cell_type": "code",
   "execution_count": null,
   "metadata": {},
   "outputs": [],
   "source": []
  },
  {
   "cell_type": "markdown",
   "metadata": {},
   "source": [
    "### b-) Transforme a coluna de registro de calote anterior em dummie. Valores \"Yes\" devem ser iguais a 1 e valores \"No\" devem ser iguais a 0."
   ]
  },
  {
   "cell_type": "code",
   "execution_count": null,
   "metadata": {},
   "outputs": [],
   "source": []
  },
  {
   "cell_type": "markdown",
   "metadata": {},
   "source": [
    "### c-) Aplique One-Hot Encoding nas colunas de nível educacional, tipo de moradia e intenção/destinação do empréstimo\n",
    "\n",
    "Obs: Pense no problema de multicolineariedade"
   ]
  },
  {
   "cell_type": "markdown",
   "metadata": {},
   "source": []
  }
 ],
 "metadata": {
  "kernelspec": {
   "display_name": "Python 3",
   "language": "python",
   "name": "python3"
  },
  "language_info": {
   "codemirror_mode": {
    "name": "ipython",
    "version": 3
   },
   "file_extension": ".py",
   "mimetype": "text/x-python",
   "name": "python",
   "nbconvert_exporter": "python",
   "pygments_lexer": "ipython3",
   "version": "3.12.3"
  }
 },
 "nbformat": 4,
 "nbformat_minor": 2
}
