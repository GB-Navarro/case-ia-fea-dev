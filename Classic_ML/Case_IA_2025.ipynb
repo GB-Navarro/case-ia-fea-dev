{
 "cells": [
  {
   "cell_type": "markdown",
   "metadata": {},
   "source": [
    "# Case de Treino IA - Machine Learning\n",
    "\n",
    "Neste case você terá a oportunidade de praticar técnicas fundamentais para se capacitar na área de Machine Learning.\n",
    "\n",
    "Sumário:\n",
    "1. Tratamento de dados\n",
    "2. Análise exploratória de dados (EDA)\n",
    "3. Pré-Processamento\n",
    "    -  Feature Engineering\n",
    "4. Modelos de Classificação\n",
    "    - K-Nearest Neighbors (KNN)\n",
    "    - Regressão Logística\n",
    "    - Naive Bayes\n",
    "    - Métricas de Avaliação\n",
    "5. Modelos de Regressão\n",
    "    - Linear Regression\n",
    "    - Ridge\n",
    "    - Lasso\n",
    "    - Métricas de Avaliação\n",
    "6. Modelos de Arvore\n",
    "7. Boosting models\n",
    "8. Support Vector Machines\n",
    "9. Otimização de Modelos\n",
    "10. Aprendizado não supervisionado\n",
    "    - Clustering\n",
    "    - Redução de Dimensionalidade\n",
    "    - Regras de Associação\n",
    "11. Séries Temporais?\n",
    "\n",
    "----\n",
    "## Referências (mais referências ao longo do case):\n",
    "\n",
    "- [Livro: Introduction to Machine Learning with Python](https://drive.google.com/drive/u/1/folders/10VdWCaR7qZ40K9rC5gWviKWMkMPzK8FB)\n",
    "- [Supervised learning with scikit-learn](https://app.datacamp.com/learn/courses/machine-learning-with-scikit-learn)"
   ]
  },
  {
   "cell_type": "markdown",
   "metadata": {},
   "source": [
    "## 0-) Importação dos dados\n",
    "\n",
    "Na primeira parte do case de IA iremos utilizar a base de dados [Loan Aproval Classification Dataset](https://www.kaggle.com/datasets/taweilo/loan-approval-classification-data/data).\n",
    "\n",
    "Está é uma base com a temática de risco de crédito. Ela contém informações detalhadas relacionadas a perfis financeiros e características pessoais e socio-econômicas de indivíduos, estruturadas de forma a facilitar a análise de risco de crédito e a predição da aprovação de empréstimos.\n",
    "\n",
    "A base de dados está em um arquivo csv na mesma pasta deste arquivo notebook."
   ]
  },
  {
   "cell_type": "markdown",
   "metadata": {},
   "source": [
    "### a-) Importe a base de dados"
   ]
  },
  {
   "cell_type": "code",
   "execution_count": null,
   "metadata": {},
   "outputs": [],
   "source": []
  }
 ],
 "metadata": {
  "kernelspec": {
   "display_name": "Python 3",
   "language": "python",
   "name": "python3"
  },
  "language_info": {
   "name": "python",
   "version": "3.12.3"
  }
 },
 "nbformat": 4,
 "nbformat_minor": 2
}
